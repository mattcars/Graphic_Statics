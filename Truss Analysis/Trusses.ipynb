{
 "cells": [
  {
   "cell_type": "code",
   "execution_count": 1,
   "metadata": {},
   "outputs": [],
   "source": [
    "import numpy as np\n",
    "import matplotlib.pyplot as plt\n",
    "import numpy.linalg as la\n",
    "\n",
    "from funicular import *"
   ]
  },
  {
   "cell_type": "code",
   "execution_count": 2,
   "metadata": {},
   "outputs": [],
   "source": [
    "def create_Pratt(span, panels, height):\n",
    "    nodes = []\n",
    "    for x in np.arange(0, span+span/panels, span/panels):\n",
    "        for y in [0, height]:\n",
    "            nodes.append([x, y])\n",
    "    nodes = np.array(nodes)\n",
    "\n",
    "    members = []\n",
    "    for i in range(int(panels/2)):\n",
    "        # Vertical member\n",
    "        members.append([2*i, 2*i+1])\n",
    "\n",
    "        # Horizontal chords\n",
    "        members.append([2*i, 2*i+2])\n",
    "        members.append([2*i+1, 2*i+3])\n",
    "\n",
    "        # Diagonal member\n",
    "        members.append([2*i+1, 2*i+2])\n",
    "\n",
    "    i = int(panels/2)\n",
    "    members.append([2*i, 2*i+1])  \n",
    "\n",
    "    for i in range(int(panels/2), panels):\n",
    "        # Horizontal member\n",
    "        members.append([2*i, 2*i+2])\n",
    "        members.append([2*i+1, 2*i+3])\n",
    "\n",
    "        # Vertical member\n",
    "        members.append([2*i+2, 2*i+3])\n",
    "\n",
    "        # Diagonal member\n",
    "        members.append([2*i, 2*i+3])\n",
    "    members = np.array(members)\n",
    "    \n",
    "    return nodes, members"
   ]
  },
  {
   "cell_type": "code",
   "execution_count": 3,
   "metadata": {},
   "outputs": [],
   "source": [
    "class Truss:\n",
    "    nodes = []\n",
    "    members = []\n",
    "    forcenodes = []\n",
    "    forces = []\n",
    "    supports = []\n",
    "    reactions = []\n",
    "    \n",
    "    \n",
    "    '''\n",
    "    GET THE SLOPES OF EACH MEMBER OF THE TRUSS\n",
    "    '''\n",
    "    def member_slopes(self):\n",
    "        s = self.nodes[self.members[:, 0]]\n",
    "        e = self.nodes[self.members[:, 1]]\n",
    "        \n",
    "        vert = np.where(s[:, 0]==e[:, 0])[0]\n",
    "        \n",
    "        slopes = np.zeros(len(self.members))\n",
    "        \n",
    "        vert = np.where(s[:, 0]==e[:, 0])[0]\n",
    "        ang = np.delete(np.arange(0, len(self.members),1), vert)\n",
    "\n",
    "\n",
    "        slopes[ang] = (e[ang, 1]-s[ang, 1])/(e[ang, 0]-s[ang, 0])\n",
    "        for v in vert:\n",
    "            # Upwards vertical\n",
    "            if e[v, 1]>s[v, 1]:\n",
    "                slopes[v] = np.inf\n",
    "            # Downwards vertical\n",
    "            else:\n",
    "                slopes[v] = -np.inf\n",
    "\n",
    "        return slopes\n",
    "    \n",
    "    \n",
    "    '''\n",
    "    PLOT THE TRUSS MEMBER GEOMETRY\n",
    "    '''\n",
    "    def plot_form(self, plot_force = False, m_color='b', a=1):\n",
    "        \n",
    "        plt.scatter(self.nodes[:, 0], self.nodes[:, 1], c='r')\n",
    "        \n",
    "        for m in self.members:\n",
    "            s = self.nodes[m[0]]\n",
    "            e = self.nodes[m[1]]\n",
    "            plt.plot([s[0], e[0]], [s[1], e[1]], c=m_color, alpha=a)\n",
    "            \n",
    "            \n",
    "        if plot_force:\n",
    "            plt.scatter(self.nodes[self.forcenodes, 0], self.nodes[self.forcenodes, 1], color='c')\n",
    "            plt.scatter(self.nodes[self.supports, 0], self.nodes[self.supports, 1], color='c')\n",
    "            \n",
    "            \n",
    "    '''\n",
    "    GET REACTION\n",
    "    '''\n",
    "    def get_reactions(self):\n",
    "        # Create funicular form for the forces\n",
    "        poly = funicular_polygon()\n",
    "        poly.set_loads(self.forces)\n",
    "        poly.origin = np.mean(poly.load_line, axis=0)-np.array([2, -1])\n",
    "\n",
    "        # Get the form \n",
    "        X = np.concatenate((np.concatenate((np.zeros(1), self.nodes[self.forcenodes, 0])), np.array([np.max(self.nodes[:, 0])])))\n",
    "        poly.get_geometry(X)\n",
    "        slope = (poly.Y[-1]-poly.Y[0])/(poly.X[-1]-poly.X[0])\n",
    "        R = poly.load_line_intersect(poly.origin, slope)\n",
    "        \n",
    "        R1 = poly.load_line[0] - R\n",
    "        R2 = R - poly.load_line[-1]\n",
    "        \n",
    "        self.reactions = np.array([R1, R2])"
   ]
  },
  {
   "cell_type": "code",
   "execution_count": 4,
   "metadata": {},
   "outputs": [],
   "source": [
    "# Create truss geometry\n",
    "span = 10\n",
    "panels = 4\n",
    "height = span/panels\n",
    "\n",
    "nodes, members = create_Pratt(span, panels, height)\n",
    "    \n",
    "fmag = 2\n",
    "fnodes = np.arange(3, (panels-1)*2+1+2, 2)\n",
    "forces = np.zeros((len(fnodes), 2))\n",
    "forces[:, 1] = -fmag"
   ]
  },
  {
   "cell_type": "code",
   "execution_count": 5,
   "metadata": {},
   "outputs": [
    {
     "data": {
      "text/plain": [
       "(-0.608617245410516,\n",
       " 10.608617245410516,\n",
       " -0.16758773752213824,\n",
       " 2.66721494904015)"
      ]
     },
     "execution_count": 5,
     "metadata": {},
     "output_type": "execute_result"
    },
    {
     "data": {
      "image/png": "[encoded data removed]",
      "text/plain": [
       "<Figure size 432x288 with 1 Axes>"
      ]
     },
     "metadata": {
      "needs_background": "light"
     },
     "output_type": "display_data"
    }
   ],
   "source": [
    "truss = Truss()\n",
    "truss.nodes = nodes\n",
    "truss.members = members\n",
    "truss.forcenodes = fnodes.astype('int')\n",
    "truss.forces = forces\n",
    "truss.supports = np.array([0, (panels)*2])\n",
    "truss.reactions = np.array([[0, -np.sum(truss.forces[:, 1])/2], [0, -np.sum(truss.forces[:, 1])/2]])\n",
    "\n",
    "truss.plot_form(a=0.5, plot_force=True)\n",
    "plt.axis('equal')"
   ]
  },
  {
   "cell_type": "code",
   "execution_count": null,
   "metadata": {},
   "outputs": [],
   "source": []
  },
  {
   "cell_type": "code",
   "execution_count": null,
   "metadata": {},
   "outputs": [],
   "source": []
  },
  {
   "cell_type": "code",
   "execution_count": null,
   "metadata": {},
   "outputs": [],
   "source": []
  }
 ],
 "metadata": {
  "kernelspec": {
   "display_name": "Python 3",
   "language": "python",
   "name": "python3"
  },
  "language_info": {
   "codemirror_mode": {
    "name": "ipython",
    "version": 3
   },
   "file_extension": ".py",
   "mimetype": "text/x-python",
   "name": "python",
   "nbconvert_exporter": "python",
   "pygments_lexer": "ipython3",
   "version": "3.7.3"
  }
 },
 "nbformat": 4,
 "nbformat_minor": 2
}
