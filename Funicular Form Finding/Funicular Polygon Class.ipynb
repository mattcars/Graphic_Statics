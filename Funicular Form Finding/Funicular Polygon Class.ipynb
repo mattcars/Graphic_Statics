{
 "cells": [
  {
   "cell_type": "code",
   "execution_count": 1,
   "metadata": {},
   "outputs": [],
   "source": [
    "import numpy as np\n",
    "import matplotlib.pyplot as plt\n",
    "import numpy.linalg as la"
   ]
  },
  {
   "cell_type": "code",
   "execution_count": 2,
   "metadata": {},
   "outputs": [],
   "source": [
    "def get_intersect(m, x0, y0):\n",
    "    \n",
    "    b=[]\n",
    "    for i in range(len(m)):\n",
    "        b.append(m[i]*-x0[i] + y0[i])\n",
    "    \n",
    "    B = np.array(b).reshape(2, 1)\n",
    "    A = np.array([[-m[0], 1], [-m[1], 1]])\n",
    "    X = la.solve(A, B)\n",
    "    \n",
    "    return X"
   ]
  },
  {
   "cell_type": "code",
   "execution_count": 3,
   "metadata": {},
   "outputs": [],
   "source": [
    "class funicular_polygon:\n",
    "    load_line = np.array([])\n",
    "    origin = (0, 0)\n",
    "    X = []\n",
    "    Y = []\n",
    "    \n",
    "    '''Set origin for the funicular form'''\n",
    "    def set_origin(self, ox, oy):\n",
    "        self.origin = (ox, oy)\n",
    "        \n",
    "    '''Set loads and build the load line'''\n",
    "    def set_loads(self, loads):\n",
    "        if type(loads) != np.ndarray:\n",
    "            loads=np.array(loads)\n",
    "            \n",
    "        self.load_line = np.concatenate((np.zeros((1, 2)), np.cumsum(loads, axis=0)))\n",
    "       \n",
    "    \n",
    "    '''Return the slopes of each member'''\n",
    "    def slopes(self):\n",
    "        return (self.load_line[:, 1] - self.origin[1])/(self.load_line[:, 0] - self.origin[0])\n",
    "    \n",
    "    '''Return Forces of each member'''\n",
    "    def forces(self):\n",
    "        return ((self.load_line[:, 0]-self.origin[0])**2 + (self.load_line[:, 1]-self.origin[1])**2)**0.5\n",
    "    \n",
    "    '''\n",
    "    Build Geometry of the Structure\n",
    "    X = x-spacing of forces (if no X is input, the function will return the current X, Y values)\n",
    "    start = start y height of point\n",
    "    start_i = start point to construct form from\n",
    "    '''\n",
    "    def get_geometry(self, X=0, start=0, start_i=0):\n",
    "        if type(X)==int:\n",
    "            return self.X, self.Y\n",
    "        if type(X) !=np.array:\n",
    "            X = np.array(X)\n",
    "        \n",
    "        self.X = X\n",
    "        self.Y = np.zeros(X.shape)\n",
    "\n",
    "        m = self.slopes()\n",
    "        \n",
    "        self.Y[start_i] = start\n",
    "\n",
    "        # forward pass\n",
    "        for k in range(0, len(m)-start_i):\n",
    "            i = start_i + k +1\n",
    "            self.Y[i] = m[i-1] * (self.X[i] - self.X[i-1]) + self.Y[i-1]\n",
    "\n",
    "        # backward pass\n",
    "        for k in range(start_i):\n",
    "            i = start_i - k -1\n",
    "            self.Y[i] = m[i] * (self.X[i] - self.X[i+1]) + self.Y[i+1]\n",
    "            \n",
    "        return self.Y\n",
    "\n",
    "    '''\n",
    "    Plot the funicular force polygons\n",
    "    ax = axis to plot on\n",
    "    '''\n",
    "    def plot_force(self, ax=0):\n",
    "        if ax==0:\n",
    "            fig, ax = plt.subplots()\n",
    "            \n",
    "        ax.plot(self.load_line[:, 0], self.load_line[:, 1], c='b')\n",
    "        ax.scatter(self.load_line[:, 0], self.load_line[:, 1], c='r')\n",
    "        ax.scatter(self.origin[0], self.origin[1], c='k')\n",
    "        \n",
    "        for l in self.load_line:\n",
    "            ax.plot([self.origin[0], l[0]], [self.origin[1], l[1]], 'g')\n",
    "        \n",
    "        if ax==0: return fig\n",
    "    \n",
    "    '''\n",
    "    Plot the form of the structure\n",
    "    ax = axis to plot on, otherwise create new plot\n",
    "    amin = minimum alpha of plot\n",
    "    '''\n",
    "    def plot_form(self, ax=0, amin=.1):\n",
    "                \n",
    "        # Scale forces to alpha values\n",
    "        N = self.forces()\n",
    "        N = N/np.max(N) * (1-amin) + amin\n",
    "            \n",
    "        if ax==0:\n",
    "            fig, ax = plt.subplots()\n",
    "            \n",
    "        ax.scatter(self.X, self.Y, c='r')\n",
    "        \n",
    "        for i in range(len(self.X)-1):\n",
    "            ax.plot([self.X[i], self.X[i+1]], [self.Y[i], self.Y[i+1]], c='b', alpha = N[i])\n",
    "    \n",
    "    \n",
    "        if ax==0: return fig"
   ]
  },
  {
   "cell_type": "code",
   "execution_count": 4,
   "metadata": {},
   "outputs": [
    {
     "data": {
      "image/png": "[encoded data removed]",
      "text/plain": [
       "<Figure size 720x360 with 2 Axes>"
      ]
     },
     "metadata": {
      "needs_background": "light"
     },
     "output_type": "display_data"
    }
   ],
   "source": [
    "poly = funicular_polygon()\n",
    "\n",
    "loads = [[0, -28], [0, -28], [-20, -28], [0, -28]]\n",
    "X = np.array([0, 3, 6, 9, 12, 15])\n",
    "\n",
    "poly.set_loads(loads)\n",
    "poly.origin = (-42, -20)#poly.load_line[-1, 1]/2)\n",
    "Y = poly.get_geometry(X)\n",
    "\n",
    "end_slope = (Y[-1]-Y[0])/(X[-1]-X[0])\n",
    "#resultant_slope = (poly.load_line[-1, 1]-poly.load_line[0, 1])/(poly.load_line[-1, 0]-poly.load_line[0, 0])\n",
    "#x_in = get_intersect([end_slope, resultant_slope], [poly.origin[0], 0], [poly.origin[1], 0])\n",
    "#seg_slope = (poly.load_line[3, 1]-poly.load_line[2, 1])/(poly.load_line[3, 0]-poly.load_line[2, 0])\n",
    "#x_in = get_intersect([end_slope, seg_slope], [poly.origin[0], poly.load_line[2, 0]], [poly.origin[1], poly.load_line[2, 1]])\n",
    "\n",
    "\n",
    "'''PLOT RESULTS'''\n",
    "fig, ax = plt.subplots(1, 2, figsize=(10, 5))\n",
    "\n",
    "\n",
    "ax[0].set_title('Force Polygon')\n",
    "\n",
    "y_cent = end_slope*(0-poly.origin[0]) + poly.origin[1]\n",
    "ax[0].plot([poly.origin[0], 0], [poly.origin[1], y_cent], c='y')\n",
    "ax[0].plot([poly.load_line[0, 0], poly.load_line[-1, 0]], [poly.load_line[0, 1], poly.load_line[-1, 1]])\n",
    "#ax[0].scatter(x_in[0], x_in[1])\n",
    "#ax[0].scatter(poly.load_line[-1, 0]/2, poly.load_line[-1, 1]/2)\n",
    "\n",
    "poly.plot_force(ax=ax[0])\n",
    "\n",
    "\n",
    "ax[1].set_title('Funicular Form')\n",
    "ax[1].plot([X[0], X[-1]], [Y[0], Y[-1]], c='y')\n",
    "poly.plot_form(ax=ax[1])\n",
    "ax[0].set_aspect('equal', 'box')\n",
    "ax[1].set_aspect('equal', 'box')"
   ]
  },
  {
   "cell_type": "code",
   "execution_count": null,
   "metadata": {},
   "outputs": [],
   "source": []
  },
  {
   "cell_type": "code",
   "execution_count": null,
   "metadata": {},
   "outputs": [],
   "source": []
  },
  {
   "cell_type": "code",
   "execution_count": null,
   "metadata": {},
   "outputs": [],
   "source": []
  },
  {
   "cell_type": "code",
   "execution_count": null,
   "metadata": {},
   "outputs": [],
   "source": []
  },
  {
   "cell_type": "code",
   "execution_count": null,
   "metadata": {},
   "outputs": [],
   "source": []
  },
  {
   "cell_type": "code",
   "execution_count": null,
   "metadata": {},
   "outputs": [],
   "source": []
  },
  {
   "cell_type": "code",
   "execution_count": null,
   "metadata": {},
   "outputs": [],
   "source": []
  }
 ],
 "metadata": {
  "kernelspec": {
   "display_name": "Python 3",
   "language": "python",
   "name": "python3"
  },
  "language_info": {
   "codemirror_mode": {
    "name": "ipython",
    "version": 3
   },
   "file_extension": ".py",
   "mimetype": "text/x-python",
   "name": "python",
   "nbconvert_exporter": "python",
   "pygments_lexer": "ipython3",
   "version": "3.7.3"
  }
 },
 "nbformat": 4,
 "nbformat_minor": 2
}
