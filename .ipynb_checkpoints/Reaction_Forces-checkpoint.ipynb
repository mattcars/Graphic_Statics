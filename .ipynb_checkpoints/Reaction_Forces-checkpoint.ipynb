{
 "cells": [
  {
   "cell_type": "code",
   "execution_count": 71,
   "metadata": {},
   "outputs": [],
   "source": [
    "import numpy as np\n",
    "from sympy import *\n",
    "from sympy.geometry import *\n",
    "import matplotlib.pyplot as plt\n",
    "import math as math"
   ]
  },
  {
   "cell_type": "code",
   "execution_count": 72,
   "metadata": {},
   "outputs": [],
   "source": [
    "''' UNIVERSAL SHAPE PLOT '''\n",
    "def plot_poly(points, x0=0, y0=0):\n",
    "        x = []\n",
    "        y = []\n",
    "\n",
    "        for v in points:\n",
    "            x.append(v[0])\n",
    "            y.append(v[1])\n",
    "    \n",
    "        x = [xi + x0 for xi in x] \n",
    "        y = [yi + y0 for yi in y] \n",
    "        \n",
    "        for i in range(len(x)):\n",
    "            j = (i+1)%len(x)\n",
    "            plt.plot([x[i], x[j]], [y[i], y[j]], c='b', zorder=2)\n",
    "        \n",
    "        plt.scatter(x, y, c='r', zorder=1)\n",
    "        \n",
    "def plot_points(points, x0=0, y0=0):\n",
    "    x = []\n",
    "    y = []\n",
    "\n",
    "    for v in points:\n",
    "        x.append(v[0])\n",
    "        y.append(v[1])\n",
    "    \n",
    "    x = [xi + x0 for xi in x] \n",
    "    y = [yi + y0 for yi in y] \n",
    "    \n",
    "    plt.scatter(x, y, c='r', zorder=1)"
   ]
  },
  {
   "cell_type": "code",
   "execution_count": 73,
   "metadata": {},
   "outputs": [],
   "source": [
    "def draw_poles(points, pole, plot=True):\n",
    "    \n",
    "    lines = []\n",
    "    slopes = []\n",
    "    for p in points:\n",
    "        lines.append(Line(p, o))\n",
    "        slopes.append(lines[-1].slope)\n",
    "        \n",
    "        if plot:\n",
    "            plt.plot([p[0], o[0]], [p[1], o[1]], 'g')\n",
    "    \n",
    "    return slopes"
   ]
  },
  {
   "cell_type": "code",
   "execution_count": 94,
   "metadata": {},
   "outputs": [],
   "source": [
    "def draw_form(x_f, x_r, slopes):\n",
    "    \n",
    "    x = [x_r[0]]\n",
    "    y = [0]\n",
    "    for i in range(len(x_f)):\n",
    "            y.append(y[-1] + slopes[i]*(x_f[i]-x[-1]))\n",
    "            x.append(x_f[i])\n",
    "    \n",
    "    x.append(x_r[-1])\n",
    "    y.append(0)\n",
    "    \n",
    "    for i in range(len(x)-1):\n",
    "        plt.plot([x[i], x[i+1]], [y[i], y[i+1]], 'b')\n",
    "    \n",
    "    plt.plot([x_r[0], x_r[1]], [0, 0], 'r')\n",
    "    \n",
    "    return x, y"
   ]
  },
  {
   "cell_type": "code",
   "execution_count": 102,
   "metadata": {},
   "outputs": [
    {
     "data": {
      "text/plain": [
       "([0, 3, 7, 10], [0, -3, -11/5, 0])"
      ]
     },
     "execution_count": 102,
     "metadata": {},
     "output_type": "execute_result"
    },
    {
     "data": {
      "image/png": "[encoded data removed]",
      "text/plain": [
       "<Figure size 432x288 with 1 Axes>"
      ]
     },
     "metadata": {
      "needs_background": "light"
     },
     "output_type": "display_data"
    },
    {
     "data": {
      "image/png": "[encoded data removed]",
      "text/plain": [
       "<Figure size 432x288 with 1 Axes>"
      ]
     },
     "metadata": {
      "needs_background": "light"
     },
     "output_type": "display_data"
    }
   ],
   "source": [
    "a = Point(0, 0)\n",
    "b = Point(0, -6)\n",
    "c = Point(0, -10)\n",
    "\n",
    "x_f = [3, 7]\n",
    "x_R = [0, 10]\n",
    "o = Point(5, -5)\n",
    "\n",
    "plt.figure()\n",
    "plot_poly([a, b, c])\n",
    "plot_points([o])\n",
    "slopes = draw_poles([a, b, c], o)\n",
    "\n",
    "plt.figure()\n",
    "draw_form(x_f, x_R, slopes)"
   ]
  },
  {
   "cell_type": "code",
   "execution_count": null,
   "metadata": {},
   "outputs": [],
   "source": []
  },
  {
   "cell_type": "code",
   "execution_count": null,
   "metadata": {},
   "outputs": [],
   "source": []
  },
  {
   "cell_type": "markdown",
   "metadata": {},
   "source": []
  }
 ],
 "metadata": {
  "kernelspec": {
   "display_name": "Python 3",
   "language": "python",
   "name": "python3"
  },
  "language_info": {
   "codemirror_mode": {
    "name": "ipython",
    "version": 3
   },
   "file_extension": ".py",
   "mimetype": "text/x-python",
   "name": "python",
   "nbconvert_exporter": "python",
   "pygments_lexer": "ipython3",
   "version": "3.7.3"
  }
 },
 "nbformat": 4,
 "nbformat_minor": 2
}
