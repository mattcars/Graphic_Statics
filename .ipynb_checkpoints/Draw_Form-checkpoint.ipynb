{
 "cells": [
  {
   "cell_type": "code",
   "execution_count": 3,
   "metadata": {},
   "outputs": [],
   "source": [
    "import numpy as np\n",
    "from sympy import *\n",
    "from sympy.geometry import *\n",
    "import matplotlib.pyplot as plt\n",
    "import math as math"
   ]
  },
  {
   "cell_type": "markdown",
   "metadata": {},
   "source": [
    "# Givens"
   ]
  },
  {
   "cell_type": "code",
   "execution_count": 71,
   "metadata": {},
   "outputs": [],
   "source": [
    "''' PLOT POLYGON TYPES '''\n",
    "def plot_polygon(poly):\n",
    "    x = []\n",
    "    y = []\n",
    "    \n",
    "    for v in poly.vertices:\n",
    "        x.append(v[0])\n",
    "        y.append(v[1])\n",
    "        \n",
    "    for i in range(len(x)):\n",
    "        j = (i+1)%len(x)\n",
    "        plt.plot([x[i], x[j]], [y[i], y[j]], c='b', zorder=2)\n",
    "    \n",
    "    plt.scatter(x, y, c='r', zorder=1)\n",
    "\n",
    "    \n",
    "''' UNIVERSAL SHAPE PLOT '''\n",
    "def plot_poly(points, x0=0, y0=0):\n",
    "    \n",
    "    # Other data types\n",
    "    if type(points) == Polygon:\n",
    "        plot_polygon(force)\n",
    "        \n",
    "        \n",
    "    # Plot list of Points\n",
    "    else:\n",
    "        x = []\n",
    "        y = []\n",
    "\n",
    "        for v in points:\n",
    "            x.append(v[0])\n",
    "            y.append(v[1])\n",
    "    \n",
    "        x = [xi + x0 for xi in x] \n",
    "        y = [yi + y0 for yi in y] \n",
    "        \n",
    "        for i in range(len(x)):\n",
    "            j = (i+1)%len(x)\n",
    "            plt.plot([x[i], x[j]], [y[i], y[j]], c='b', zorder=2)\n",
    "        \n",
    "        plt.scatter(x, y, c='r', zorder=1)\n",
    "        \n",
    "        \n",
    "def plot_points(points, x0=0, y0=0):\n",
    "    x = []\n",
    "    y = []\n",
    "\n",
    "    for v in points:\n",
    "        x.append(v[0])\n",
    "        y.append(v[1])\n",
    "    \n",
    "    x = [xi + x0 for xi in x] \n",
    "    y = [yi + y0 for yi in y] \n",
    "    \n",
    "    plt.scatter(x, y, c='r', zorder=1)\n",
    "    \n",
    "def draw_members(mems):\n",
    "    \n",
    "    for (s, e) in mems:\n",
    "        plt.plot([s[0], e[0]], [s[1], e[1]], c='g')"
   ]
  },
  {
   "cell_type": "code",
   "execution_count": 72,
   "metadata": {},
   "outputs": [],
   "source": [
    "def create_form_lines(pairs):\n",
    "    form_lines = []\n",
    "    for p in pairs:\n",
    "        form_lines.append(Line(p[0], p[1]))\n",
    "        \n",
    "    return form_lines\n",
    "\n",
    "def get_line_params(f_lines):\n",
    "    f_slopes = []\n",
    "    stresses = []\n",
    "    \n",
    "    for l in f_lines:\n",
    "        f_slopes.append(l.slope)\n",
    "        \n",
    "        s = l.p1\n",
    "        e = l.p2\n",
    "        stresses.append(s.distance(e))\n",
    "    \n",
    "    return f_slopes, stresses"
   ]
  },
  {
   "cell_type": "code",
   "execution_count": 73,
   "metadata": {},
   "outputs": [],
   "source": [
    "a=Point(0, 0)\n",
    "b=Point(0, -10)\n",
    "c=Point(0, -5)\n",
    "\n",
    "p1=Point(-3-3/4, -5)\n",
    "\n",
    "spaces = [a, b, c]\n",
    "panels = [p1]"
   ]
  },
  {
   "cell_type": "code",
   "execution_count": 74,
   "metadata": {},
   "outputs": [
    {
     "data": {
      "image/png": "[encoded data removed]",
      "text/plain": [
       "<Figure size 432x288 with 1 Axes>"
      ]
     },
     "metadata": {
      "needs_background": "light"
     },
     "output_type": "display_data"
    }
   ],
   "source": [
    "force = Polygon(a, b, c)\n",
    "\n",
    "members = [[a, p1], [b, p1]]\n",
    "form_lines = create_form_lines(members)\n",
    "form_m, stresses = get_line_params(form_lines)\n",
    "\n",
    "plot_poly(spaces)\n",
    "plot_points(panels)\n",
    "draw_members(members)"
   ]
  },
  {
   "cell_type": "code",
   "execution_count": null,
   "metadata": {},
   "outputs": [],
   "source": []
  },
  {
   "cell_type": "code",
   "execution_count": null,
   "metadata": {},
   "outputs": [],
   "source": []
  },
  {
   "cell_type": "code",
   "execution_count": null,
   "metadata": {},
   "outputs": [],
   "source": []
  }
 ],
 "metadata": {
  "kernelspec": {
   "display_name": "Python 3",
   "language": "python",
   "name": "python3"
  },
  "language_info": {
   "codemirror_mode": {
    "name": "ipython",
    "version": 3
   },
   "file_extension": ".py",
   "mimetype": "text/x-python",
   "name": "python",
   "nbconvert_exporter": "python",
   "pygments_lexer": "ipython3",
   "version": "3.7.3"
  }
 },
 "nbformat": 4,
 "nbformat_minor": 2
}
