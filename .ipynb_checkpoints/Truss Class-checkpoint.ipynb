{
 "cells": [
  {
   "cell_type": "code",
   "execution_count": 13,
   "metadata": {},
   "outputs": [],
   "source": [
    "import numpy as np\n",
    "import matplotlib.pyplot as plt\n",
    "import numpy.linalg as la\n",
    "import math as math\n",
    "\n",
    "from funicular import *"
   ]
  },
  {
   "cell_type": "markdown",
   "metadata": {},
   "source": [
    "# Helper Functions"
   ]
  },
  {
   "cell_type": "code",
   "execution_count": 14,
   "metadata": {},
   "outputs": [],
   "source": [
    "'''\n",
    "RETURN INTERSECTION OF TWO LINES IN POINT-SLOPE FORM\n",
    "p = points (x, y)\n",
    "m = slopes\n",
    "'''\n",
    "def get_intersect(p1, m1, p2, m2):\n",
    "    if abs(m1) == np.inf and abs(m2) == np.inf:\n",
    "        return (p1[0], np.inf)\n",
    "    \n",
    "    # If one of them is a vertical line\n",
    "    if abs(m2) == np.inf:\n",
    "        temp_p = p1\n",
    "        temp_m = m1\n",
    "        p1 = p2\n",
    "        m1 = m2\n",
    "        p2 = temp_p\n",
    "        m2 = temp_m\n",
    "    if abs(m1) == np.inf:\n",
    "        x = p1[0]\n",
    "        y = m2*(x-p2[0]) + p2[1]\n",
    "        return (x, y)\n",
    "    \n",
    "    \n",
    "    b = np.array([m1*-p1[0] + p1[1], m2*-p2[0] + p2[1]])\n",
    "    B = np.array(b).reshape(2, 1)\n",
    "    A = np.array([[-m1, 1], [-m2, 1]])\n",
    "    X = la.solve(A, B)\n",
    "\n",
    "    return (X[0][0], X[1][0])\n",
    "\n",
    "def create_Pratt(span, panels, height):\n",
    "    nodes = []\n",
    "    for x in np.arange(0, span+span/panels, span/panels):\n",
    "        for y in [0, height]:\n",
    "            nodes.append([x, y])\n",
    "    nodes = np.array(nodes)\n",
    "\n",
    "    members = []\n",
    "    for i in range(int(panels/2)):\n",
    "        # Vertical member\n",
    "        members.append([2*i, 2*i+1])\n",
    "\n",
    "        # Horizontal chords\n",
    "        members.append([2*i, 2*i+2])\n",
    "        members.append([2*i+1, 2*i+3])\n",
    "\n",
    "        # Diagonal member\n",
    "        members.append([2*i+1, 2*i+2])\n",
    "\n",
    "    i = int(panels/2)\n",
    "    members.append([2*i, 2*i+1])  \n",
    "\n",
    "    for i in range(int(panels/2), panels):\n",
    "        # Horizontal member\n",
    "        members.append([2*i, 2*i+2])\n",
    "        members.append([2*i+1, 2*i+3])\n",
    "\n",
    "        # Vertical member\n",
    "        members.append([2*i+2, 2*i+3])\n",
    "\n",
    "        # Diagonal member\n",
    "        members.append([2*i, 2*i+3])\n",
    "    members = np.array(members)\n",
    "    \n",
    "    return nodes, members"
   ]
  },
  {
   "cell_type": "markdown",
   "metadata": {},
   "source": [
    "# Truss Class"
   ]
  },
  {
   "cell_type": "code",
   "execution_count": 19,
   "metadata": {},
   "outputs": [],
   "source": [
    "class Truss:\n",
    "    # Geometry\n",
    "    nodes = []\n",
    "    members = []\n",
    "    slopes = []\n",
    "    \n",
    "    # Boundary Forces\n",
    "    forces = []\n",
    "    force_node = []\n",
    "    supports = []\n",
    "    \n",
    "    # Connectivity between members, nodes, and forces\n",
    "        # spaces = force diagram coordinates of each space\n",
    "    spaces = []\n",
    "        # connectivity = force indices associated with each node\n",
    "    connectivity = []\n",
    "        # node_forces = dict for each node that carries its force with the spaces it divides going CCW\n",
    "    node_forces = []\n",
    "        # force_space = condensed version of node_forces that relates forces to the spaces it divides\n",
    "    force_space = []\n",
    "    \n",
    "    ''' CONSTRUCTOR '''\n",
    "    def __init__(self, nodes, members):\n",
    "        self.nodes = nodes\n",
    "        self.members = members\n",
    "        \n",
    "        # Slopes of each member\n",
    "        s = members[:, 0]\n",
    "        e = members[:, 1]\n",
    "\n",
    "        dx = nodes[e, 0] - nodes[s, 0]\n",
    "        dy = nodes[e, 1] - nodes[s, 1]\n",
    "\n",
    "        slopes = np.zeros(len(dx))\n",
    "        slopes[dx==0] = np.inf\n",
    "        slopes[dx!=0] = dy[dx!=0]/dx[dx!=0]\n",
    "        self.slopes = slopes\n",
    "     \n",
    "    '''\n",
    "    SET LOADS ON THE TRUSS\n",
    "    forces = array of foce magnitudes (vertical)\n",
    "    force_node = nodes forces are applied to\n",
    "    supports = nodes that are fixed (vertical)\n",
    "    '''\n",
    "    def set_loads(self, forces, force_node, supports):\n",
    "        self.forces = forces\n",
    "        self.force_node = force_node\n",
    "        self.supports = supports\n",
    "        \n",
    "        # reset arrays \n",
    "        spaces = []\n",
    "        connectivity = []\n",
    "        node_forces = []\n",
    "        force_space = []\n",
    "        \n",
    "        # recalibrate the force-space\n",
    "        #self.get_connectivity()\n",
    "        #self.init_force_space()\n",
    "    \n",
    "    \n",
    "    ''' CREATE CONNECTIVITY ARRAY FOR EACH NODE '''\n",
    "    def get_connectivity(self):\n",
    "        nf = len(self.forces)\n",
    "        \n",
    "        connectivity = []\n",
    "        for n in range(self.nodes.shape[0]):\n",
    "            mems = np.where(self.members==n)[0]+nf\n",
    "            connectivity.append(mems)\n",
    "\n",
    "        for i in range(len(self.force_node)):\n",
    "            connectivity[self.force_node[i]] = np.append(connectivity[self.force_node[i]], i)\n",
    "\n",
    "\n",
    "        #  Reorder nodes so that they go clockwise\n",
    "        Angles = []\n",
    "        for n, mems in enumerate(connectivity):\n",
    "            angs = np.array([])\n",
    "            for m in mems:\n",
    "                # Calculate applied force orientation\n",
    "                if m < nf:\n",
    "                    if self.forces[m] > 0: ang = 3*math.pi/2\n",
    "                    else: ang = math.pi/2\n",
    "\n",
    "                # Calculate member orientation\n",
    "                else:\n",
    "                    s = self.nodes[n]\n",
    "\n",
    "                    if np.where(self.members[m-nf]==n)[0][0] == 1:\n",
    "                        e = nodes[self.members[m-nf, 0]]\n",
    "                    else:\n",
    "                        e = nodes[self.members[m-nf, 1]]\n",
    "\n",
    "                    # Calculate inverse sin of the member\n",
    "                    dx = e[0]-s[0]\n",
    "                    dy = e[1]-s[1]\n",
    "                    d = (dx**2+dy**2)**0.5\n",
    "                    ang = math.asin(dy/d)\n",
    "\n",
    "                    # Adjust based on limits of sin\n",
    "                    if dx < 0:\n",
    "                        if dy < 0:\n",
    "                            ang = math.pi + abs(ang)\n",
    "                        else:\n",
    "                            ang = math.pi - ang\n",
    "                    elif dy < 0:\n",
    "                        ang = 2*math.pi + ang\n",
    "\n",
    "                angs = np.append(angs, ang)\n",
    "\n",
    "            # Reorder members by increasing angle (counter clockwise)\n",
    "            connectivity[n] = connectivity[n][np.argsort(angs)]\n",
    "        \n",
    "        self.connectivity = connectivity\n",
    "    \n",
    "    \n",
    "    def init_force_space(self):\n",
    "        \n",
    "        # Track panels/spaces assigned to each force\n",
    "        forces = []\n",
    "        nf = len(self.forces)\n",
    "\n",
    "        # Input every forces for every node\n",
    "        for n in range(self.nodes.shape[0]):\n",
    "            forces.append({})\n",
    "            for c in self.connectivity[n]:\n",
    "                forces[n][c]=[-1, -1]\n",
    "\n",
    "        # For each external force, assign the spaces\n",
    "        for i in range(nf):\n",
    "            n = self.force_node[i]\n",
    "            conn = self.connectivity[n]\n",
    "\n",
    "            # Assign spaces based on external force\n",
    "            forces[n][i] = [(i+1)%nf, i]\n",
    "\n",
    "            # Update adjacent members to share the space\n",
    "            for j, c in enumerate(conn):\n",
    "\n",
    "                if forces[n][c][0] != -1:\n",
    "                    c2 = conn[(j-1)%len(conn)]\n",
    "\n",
    "                    if c2-nf >= 0:\n",
    "                        forces[n][c2][1] = forces[n][c][0]\n",
    "\n",
    "                        # Update space for the other node the member is attached to\n",
    "                        n2 = self.members[c2-nf, np.where(self.members[c2-nf]!=n)[0][0]]\n",
    "                        forces[n2][c2][0] = forces[n][c][0]\n",
    "\n",
    "                if forces[n][c][1] != -1:\n",
    "                    c2 = conn[(j+1)%len(conn)]\n",
    "\n",
    "                    if c2-nf>=0:\n",
    "                        forces[n][c2][0] = forces[n][c][1] \n",
    "\n",
    "                        # Update space for the other node the member is attached to\n",
    "                        n2 = self.members[c2-nf, np.where(self.members[c2-nf]!=n)[0][0]]\n",
    "                        forces[n2][c2][1] = forces[n][c][1]\n",
    "        \n",
    "        self.force_space = forces\n",
    "        \n",
    "        \n",
    "    def find_spaces(self):\n",
    "        nf = len(self.forces)\n",
    "        \n",
    "        # Initialize spaces vector with the locations of the external force spaces\n",
    "        spaces = np.zeros((nf, 2))\n",
    "        spaces[1:, 1] = self.forces[0:-1]\n",
    "        spaces = np.cumsum(spaces, axis=0)\n",
    "\n",
    "        # Queue of nodes to look at \n",
    "        queue = list(range(self.nodes.shape[0]))\n",
    "\n",
    "        ''' SOLVE FOR UNKNOWN SPACE NODE BY NODE'''\n",
    "        #while len(queue) > 0:\n",
    "        for i in range(2):\n",
    "            \n",
    "\n",
    "            # get next node\n",
    "            n = queue.pop(0)\n",
    "            print('Node: '+str(n))\n",
    "            print('Queue: ', queue)\n",
    "\n",
    "            # Check if there is only 1 degree of freedom (2 -1's in the force dict)\n",
    "            dof_count = 0\n",
    "            for i, mem in enumerate(self.force_space[n]):\n",
    "                for dof in self.force_space[n][mem]:\n",
    "                    if dof == -1:\n",
    "                        dof_count += 1\n",
    "            \n",
    "            print(self.force_space[n])\n",
    "            # Add add node to end of queue if it is not solveable yet\n",
    "            if dof_count > 2:\n",
    "                queue.append(n)\n",
    "\n",
    "            # if the current node is solveable\n",
    "            elif dof_count == 2:\n",
    "\n",
    "                # Next numbering of space\n",
    "                snum = spaces.shape[0]\n",
    "\n",
    "                # Get two spaces to solve for and the corresponding member slopes\n",
    "                s1 = -1\n",
    "                m1 = 0\n",
    "                f1 = -1\n",
    "                s2 = -1\n",
    "                m2 = 0\n",
    "                f2 = -1\n",
    "                for i, mem in enumerate(self.force_space[n]):\n",
    "                    if self.force_space[n][mem][0] == -1:\n",
    "                        s1 = self.force_space[n][mem][1]\n",
    "                        m1 = self.slopes[mem-nf]\n",
    "                        f1 = mem\n",
    "\n",
    "                    if self.force_space[n][mem][1] == -1:\n",
    "                        s2 = self.force_space[n][mem][0]\n",
    "                        m2 = self.slopes[mem-nf]\n",
    "                        f2 = mem\n",
    "\n",
    "                # find intersection of these two force lines and add it to spaces\n",
    "                spaces = np.append(spaces, [get_intersect(spaces[s1], m1, spaces[s2], m2)], axis=0)\n",
    "\n",
    "\n",
    "                # Update force to new unknown space\n",
    "                self.force_space[n][f1][0]=snum\n",
    "                self.force_space[n][f2][1]=snum\n",
    "\n",
    "                # update forces with new known force\n",
    "                n1 = self.members[f1-nf, np.where(self.members[f1-nf]!=n)[0][0]]\n",
    "                self.force_space[n1][f1][1]=snum\n",
    "                n2 = self.members[f2-nf, np.where(self.members[f2-nf]!=n)[0][0]]\n",
    "                self.force_space[n2][f2][0]=snum\n",
    "\n",
    "                # update adjacent forces\n",
    "                conn1 = self.connectivity[n1]\n",
    "                i1 = np.where(conn1==f1)[0][0]\n",
    "                self.force_space[n1][conn1[(i1+1)%len(conn1)]][0] = snum\n",
    "                conn2 = self.connectivity[n2]\n",
    "                i2 = np.where(conn2==f2)[0][0]\n",
    "                self.force_space[n2][conn2[(i2-1)%len(conn2)]][1] = snum\n",
    "\n",
    "                #print('Node '+str(n))\n",
    "                #print('Solving for Space: '+str(snum))\n",
    "                #print('\\tSpace 1: '+str(s1)+' at ('+str(spaces[s1, 0])+', '+str(spaces[s1, 1])+') Slope 1: '+str(m1))\n",
    "                #print('\\tSpace 2: '+str(s2)+' at ('+str(spaces[s2, 0])+', '+str(spaces[s2, 1])+') Slope 2: '+str(m2))\n",
    "                #print('Space '+str(snum)+' at: ('+str(spaces[snum, 0])+', '+str(spaces[snum, 1])+')\\n')\n",
    "            \n",
    "            \n",
    "        self.spaces = spaces\n",
    "        \n",
    "        for i, f in enumerate(self.force_space):\n",
    "            for k in f:\n",
    "                if -1 in f:\n",
    "                    print('FAILED AT NODE'+str(i)+', MEMBER '+str(k))\n",
    "    \n",
    "    \n",
    "    ''' \n",
    "    PLOT GEOMETRY \n",
    "    \n",
    "    highlight_mem = array of members to color differently\n",
    "    '''\n",
    "    def plot_form(self, ax='', m_color='b', highlight_mem=[], highlight_c='m', alpha=1):\n",
    "        if ax=='':\n",
    "            fig, ax = plt.subplots()\n",
    "        \n",
    "        ax.scatter(nodes[:, 0], nodes[:, 1], color='r')\n",
    "        for i, m in enumerate(members):\n",
    "            if i in highlight_mem:\n",
    "                ax.plot([nodes[m[0], 0], nodes[m[1], 0]], [nodes[m[0], 1], nodes[m[1], 1]], c=highlight_c)\n",
    "            else:\n",
    "                ax.plot([nodes[m[0], 0], nodes[m[1], 0]], [nodes[m[0], 1], nodes[m[1], 1]], c=m_color, alpha=alpha)"
   ]
  },
  {
   "cell_type": "markdown",
   "metadata": {},
   "source": [
    "# Create Truss Geometry"
   ]
  },
  {
   "cell_type": "code",
   "execution_count": 16,
   "metadata": {},
   "outputs": [
    {
     "data": {
      "image/png": "[encoded data removed]",
      "text/plain": [
       "<Figure size 432x288 with 1 Axes>"
      ]
     },
     "metadata": {
      "needs_background": "light"
     },
     "output_type": "display_data"
    }
   ],
   "source": [
    "#nodes = np.array([[0, 0], [0, 1], [1, 0], [1, 1], [2, 0], [2, 1]])\n",
    "#members = np.array([[0, 1], [0, 2], [1, 2], [1, 3], [2, 3], [2, 5], [3, 5], [2, 4], [4, 5]])\n",
    "nodes, members = create_Pratt(10, 4, 5)\n",
    "\n",
    "truss = Truss(nodes, members)\n",
    "truss.plot_form()\n",
    "plt.axis('equal')\n",
    "\n",
    "#truss.forces = np.array([-1, 1/2, 1/2])\n",
    "#truss.force_node = np.array([3, 4, 0])\n",
    "truss.forces = np.array([-1, 1/2, 1/2])\n",
    "truss.force_node = np.array([5, 8, 0])"
   ]
  },
  {
   "cell_type": "markdown",
   "metadata": {},
   "source": [
    "# Truss Connectivity"
   ]
  },
  {
   "cell_type": "code",
   "execution_count": 17,
   "metadata": {},
   "outputs": [
    {
     "data": {
      "image/png": "[encoded data removed]",
      "text/plain": [
       "<Figure size 864x1152 with 12 Axes>"
      ]
     },
     "metadata": {
      "needs_background": "light"
     },
     "output_type": "display_data"
    }
   ],
   "source": [
    "truss.get_connectivity()\n",
    "\n",
    "fig, ax = plt.subplots(math.ceil(truss.nodes.shape[0]/3), 3, figsize = (12, 4*math.ceil(truss.nodes.shape[0]/3)))\n",
    "\n",
    "for i in range(nodes.shape[0]):\n",
    "    xi = math.floor(i/3)\n",
    "    xj = i%3\n",
    "    \n",
    "    truss.plot_form(ax=ax[xi, xj], alpha=0.5, highlight_mem=truss.connectivity[i]-len(truss.forces), highlight_c='k')\n",
    "    ax[xi, xj].set_title('Node '+str(i))\n",
    "    ax[xi, xj].axis('equal')"
   ]
  },
  {
   "cell_type": "code",
   "execution_count": 28,
   "metadata": {},
   "outputs": [],
   "source": [
    "truss.init_force_space()"
   ]
  },
  {
   "cell_type": "code",
   "execution_count": 29,
   "metadata": {},
   "outputs": [
    {
     "data": {
      "text/plain": [
       "[{4: [2, -1], 3: [-1, 0], 2: [0, 2]},\n",
       " {5: [-1, -1], 3: [0, -1], 6: [-1, -1]},\n",
       " {8: [-1, -1], 7: [-1, -1], 6: [-1, -1], 4: [-1, 2]},\n",
       " {9: [-1, 0], 5: [-1, -1], 7: [-1, -1], 10: [-1, -1]},\n",
       " {12: [-1, -1], 15: [-1, -1], 11: [-1, -1], 10: [-1, -1], 8: [-1, -1]},\n",
       " {13: [-1, 1], 0: [1, 0], 9: [0, -1], 11: [-1, -1]},\n",
       " {16: [2, -1], 19: [-1, -1], 14: [-1, -1], 12: [-1, -1]},\n",
       " {17: [-1, -1], 13: [1, -1], 15: [-1, -1], 14: [-1, -1]},\n",
       " {18: [1, -1], 16: [-1, 2], 1: [2, 1]},\n",
       " {17: [-1, -1], 19: [-1, -1], 18: [-1, 1]}]"
      ]
     },
     "execution_count": 29,
     "metadata": {},
     "output_type": "execute_result"
    }
   ],
   "source": [
    "truss.force_space"
   ]
  },
  {
   "cell_type": "code",
   "execution_count": 7,
   "metadata": {},
   "outputs": [],
   "source": [
    "#truss.find_spaces()"
   ]
  },
  {
   "cell_type": "code",
   "execution_count": null,
   "metadata": {},
   "outputs": [],
   "source": []
  },
  {
   "cell_type": "code",
   "execution_count": 35,
   "metadata": {},
   "outputs": [],
   "source": [
    "def add_space(self, n, mem, i, space):\n",
    "    print(self.force_space[n])\n",
    "    \n",
    "    \n",
    "    self.force_space[n][mem][i] = space\n",
    "    conn = self.connectivity[n]\n",
    "    \n",
    "    \n",
    "    \n",
    "    \n",
    "    return 0"
   ]
  },
  {
   "cell_type": "code",
   "execution_count": 37,
   "metadata": {},
   "outputs": [
    {
     "name": "stdout",
     "output_type": "stream",
     "text": [
      "{4: [2, -1], 3: [-1, 0], 2: [0, 2]}\n"
     ]
    },
    {
     "data": {
      "text/plain": [
       "0"
      ]
     },
     "execution_count": 37,
     "metadata": {},
     "output_type": "execute_result"
    }
   ],
   "source": [
    "add_space(truss, 0, 2, 0, 0)"
   ]
  },
  {
   "cell_type": "code",
   "execution_count": 39,
   "metadata": {},
   "outputs": [
    {
     "data": {
      "text/plain": [
       "array([4, 3, 2])"
      ]
     },
     "execution_count": 39,
     "metadata": {},
     "output_type": "execute_result"
    }
   ],
   "source": [
    "truss.connectivity[0]"
   ]
  },
  {
   "cell_type": "code",
   "execution_count": 40,
   "metadata": {},
   "outputs": [],
   "source": [
    "# override __setitem__ [] to create a new type of dictionary/list"
   ]
  },
  {
   "cell_type": "code",
   "execution_count": null,
   "metadata": {},
   "outputs": [],
   "source": []
  }
 ],
 "metadata": {
  "kernelspec": {
   "display_name": "Python 3",
   "language": "python",
   "name": "python3"
  },
  "language_info": {
   "codemirror_mode": {
    "name": "ipython",
    "version": 3
   },
   "file_extension": ".py",
   "mimetype": "text/x-python",
   "name": "python",
   "nbconvert_exporter": "python",
   "pygments_lexer": "ipython3",
   "version": "3.7.3"
  }
 },
 "nbformat": 4,
 "nbformat_minor": 2
}
