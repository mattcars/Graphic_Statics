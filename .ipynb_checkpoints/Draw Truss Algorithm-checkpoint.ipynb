{
 "cells": [
  {
   "cell_type": "code",
   "execution_count": 1,
   "metadata": {},
   "outputs": [],
   "source": [
    "import numpy as np\n",
    "import matplotlib.pyplot as plt\n",
    "import math as math\n",
    "import numpy.linalg as la"
   ]
  },
  {
   "cell_type": "code",
   "execution_count": 2,
   "metadata": {},
   "outputs": [],
   "source": [
    "'''\n",
    "RETURN INTERSECTION OF TWO LINES IN POINT-SLOPE FORM\n",
    "p = points (x, y)\n",
    "m = slopes\n",
    "'''\n",
    "def get_intersect(p1, m1, p2, m2):\n",
    "    if abs(m1) == np.inf and abs(m2) == np.inf:\n",
    "        return (p1[0], np.inf)\n",
    "    \n",
    "    # If one of them is a vertical line\n",
    "    if abs(m2) == np.inf:\n",
    "        temp_p = p1\n",
    "        temp_m = m1\n",
    "        p1 = p2\n",
    "        m1 = m2\n",
    "        p2 = temp_p\n",
    "        m2 = temp_m\n",
    "    if abs(m1) == np.inf:\n",
    "        x = p1[0]\n",
    "        y = m2*(x-p2[0]) + p2[1]\n",
    "        return (x, y)\n",
    "    \n",
    "    \n",
    "    b = np.array([m1*-p1[0] + p1[1], m2*-p2[0] + p2[1]])\n",
    "    B = np.array(b).reshape(2, 1)\n",
    "    A = np.array([[-m1, 1], [-m2, 1]])\n",
    "    X = la.solve(A, B)\n",
    "\n",
    "    return (X[0][0], X[1][0])"
   ]
  },
  {
   "cell_type": "markdown",
   "metadata": {},
   "source": [
    "# Build Truss Connectivity/Geometry"
   ]
  },
  {
   "cell_type": "markdown",
   "metadata": {},
   "source": [
    "This code builds a simple truss and outlines the member connectivity: \n",
    "- nodes = node coordinates nodes[n] = [x, y]\n",
    "- members = nodes associated with each member members[m] = [start node, end node]"
   ]
  },
  {
   "cell_type": "code",
   "execution_count": 3,
   "metadata": {},
   "outputs": [
    {
     "data": {
      "text/plain": [
       "<matplotlib.collections.PathCollection at 0x11c5e5da0>"
      ]
     },
     "execution_count": 3,
     "metadata": {},
     "output_type": "execute_result"
    },
    {
     "data": {
      "image/png": "[encoded data removed]",
      "text/plain": [
       "<Figure size 432x288 with 1 Axes>"
      ]
     },
     "metadata": {
      "needs_background": "light"
     },
     "output_type": "display_data"
    }
   ],
   "source": [
    "'''TRUSS GEOMETRY'''\n",
    "nodes = np.array([[0, 0], [0, 1], [1, 0], [1, 1], [2, 0], [2, 1]])\n",
    "members = np.array([[0, 1], [0, 2], [1, 2], [1, 3], [2, 3], [2, 5], [3, 5], [2, 4], [4, 5]])\n",
    "\n",
    "plt.scatter(nodes[:, 0], nodes[:, 1], color='r')\n",
    "for m in members:\n",
    "    plt.plot([nodes[m[0], 0], nodes[m[1], 0]], [nodes[m[0], 1], nodes[m[1], 1]], c='b')\n",
    "plt.axis('equal')\n",
    "\n",
    "# Force locations and values (assuming all vertical)\n",
    "ext_forces = np.array([-1, 1/2, 1/2])\n",
    "forcenode = np.array([3, 4, 0])\n",
    "\n",
    "plt.scatter(nodes[forcenode, 0], nodes[forcenode, 1], c='m', marker='^')"
   ]
  },
  {
   "cell_type": "markdown",
   "metadata": {},
   "source": [
    "This code outlines the external forces applied to the truss (including the reactions). These are the first 3 spaces to get marked. \n",
    "- ext_forces = force magnitudes (assume all are vertical)\n",
    "- forcenode = node each force acts on \n",
    "- $n_{f}$ = number of external forces\n",
    "\n",
    "<br> Connectivity outlines which force lines (including external forces and member forces) are associated with each node. The first $n_{f}$ force lines are the external forces and the rest are the members. Forces 0 through $n_{f}$ correspond to ext_forces 0 to $n_{f}$. Force $i$ corresponds to member $i - n_{f}$\n",
    "- connectivity = forces per each node. connectivity[n] = [list of force indices]"
   ]
  },
  {
   "cell_type": "code",
   "execution_count": 4,
   "metadata": {},
   "outputs": [],
   "source": [
    "# Number of external forces\n",
    "nf = len(ext_forces)\n",
    "\n",
    "# Slopes of each member\n",
    "s = members[:, 0]\n",
    "e = members[:, 1]\n",
    "\n",
    "dx = nodes[e, 0] - nodes[s, 0]\n",
    "dy = nodes[e, 1] - nodes[s, 1]\n",
    "\n",
    "slopes = np.zeros(len(dx))\n",
    "slopes[dx==0] = np.inf\n",
    "slopes[dx!=0] = dy[dx!=0]/dx[dx!=0]"
   ]
  },
  {
   "cell_type": "code",
   "execution_count": 5,
   "metadata": {},
   "outputs": [],
   "source": [
    "''' LOG WHICH FORCES ARE ASSOCIATED WITH EACH MEMBER'''\n",
    "\n",
    "# Find which forces are associated to which member\n",
    "\n",
    "connectivity = []\n",
    "for n in range(nodes.shape[0]):\n",
    "    mems = np.where(members==n)[0]+nf\n",
    "    connectivity.append(mems)\n",
    "    \n",
    "for i in range(len(forcenode)):\n",
    "    connectivity[forcenode[i]] = np.append(connectivity[forcenode[i]], i)\n",
    "    \n",
    "    \n",
    "#  Reorder nodes so that they go clockwise\n",
    "Angles = []\n",
    "for n, mems in enumerate(connectivity):\n",
    "    angs = np.array([])\n",
    "    for m in mems:\n",
    "        # Calculate applied force orientation\n",
    "        if m < nf:\n",
    "            if ext_forces[m] > 0: ang = 3*math.pi/2\n",
    "            else: ang = math.pi/2\n",
    "        \n",
    "        # Calculate member orientation\n",
    "        else:\n",
    "            s = nodes[n]\n",
    "            \n",
    "            if np.where(members[m-nf]==n)[0][0] == 1:\n",
    "                e = nodes[members[m-nf, 0]]\n",
    "            else:\n",
    "                e = nodes[members[m-nf, 1]]\n",
    "            \n",
    "            # Calculate inverse sin of the member\n",
    "            dx = e[0]-s[0]\n",
    "            dy = e[1]-s[1]\n",
    "            d = (dx**2+dy**2)**0.5\n",
    "            ang = math.asin(dy/d)\n",
    "            \n",
    "            # Adjust based on limits of sin\n",
    "            if dx < 0:\n",
    "                if dy < 0:\n",
    "                    ang = math.pi + abs(ang)\n",
    "                else:\n",
    "                    ang = math.pi - ang\n",
    "            elif dy < 0:\n",
    "                ang = 2*math.pi + ang\n",
    "                \n",
    "        angs = np.append(angs, ang)\n",
    "        \n",
    "    # Reorder members by increasing angle (counter clockwise)\n",
    "    connectivity[n] = connectivity[n][np.argsort(angs)]"
   ]
  },
  {
   "cell_type": "code",
   "execution_count": 6,
   "metadata": {},
   "outputs": [
    {
     "data": {
      "text/plain": [
       "[array([4, 3, 2]),\n",
       " array([6, 3, 5]),\n",
       " array([10,  8,  7,  5,  4]),\n",
       " array([9, 0, 6, 7]),\n",
       " array([11, 10,  1]),\n",
       " array([ 9,  8, 11])]"
      ]
     },
     "execution_count": 6,
     "metadata": {},
     "output_type": "execute_result"
    }
   ],
   "source": [
    "connectivity"
   ]
  },
  {
   "cell_type": "markdown",
   "metadata": {},
   "source": [
    "This code creates the forces list. This creates a dict for each node where the key is the force associated with it (which corresponds to the indices in connectivity) and the value is spaces that define each force in a counter-clockwise orientation. Spaces that are not yet defined will be denoted by a -1, indicating that they are a free degree of freedom that needs to be solved. \n",
    "\n",
    "In the algorithm, each of these unsolved spaces will be iteratively solved to build the force diagram. \n",
    "\n",
    "- forces = list of dictionaries for each node, forces[n] = {force: [space1, space2], ...}"
   ]
  },
  {
   "cell_type": "code",
   "execution_count": 7,
   "metadata": {},
   "outputs": [],
   "source": [
    "''' CREATE LOG FOR WHICH SPACES EACH FORCE DIVIDES PER NODE '''\n",
    "\n",
    "# Track panels/spaces assigned to each force\n",
    "forces = []\n",
    "\n",
    "# Input every forces for every node\n",
    "for n in range(nodes.shape[0]):\n",
    "    forces.append({})\n",
    "    for c in connectivity[n]:\n",
    "        forces[n][c]=[-1, -1]\n",
    "        \n",
    "# For each external force, assign the spaces\n",
    "for i in range(nf):\n",
    "    n = forcenode[i]\n",
    "    conn = connectivity[n]\n",
    "    \n",
    "    # Assign spaces based on external force\n",
    "    forces[n][i] = [(i+1)%nf, i]\n",
    "    \n",
    "    # Update adjacent members to share the space\n",
    "    for j, c in enumerate(conn):\n",
    "        \n",
    "        if forces[n][c][0] != -1:\n",
    "            c2 = conn[(j-1)%len(conn)]\n",
    "            \n",
    "            if c2-nf >= 0:\n",
    "                forces[n][c2][1] = forces[n][c][0]\n",
    "\n",
    "                # Update space for the other node the member is attached to\n",
    "                n2 = members[c2-nf, np.where(members[c2-nf]!=n)[0][0]]\n",
    "                forces[n2][c2][0] = forces[n][c][0]\n",
    "            \n",
    "        if forces[n][c][1] != -1:\n",
    "            c2 = conn[(j+1)%len(conn)]\n",
    "            \n",
    "            if c2-nf>=0:\n",
    "                forces[n][c2][0] = forces[n][c][1] \n",
    "\n",
    "                # Update space for the other node the member is attached to\n",
    "                n2 = members[c2-nf, np.where(members[c2-nf]!=n)[0][0]]\n",
    "                forces[n2][c2][1] = forces[n][c][1]"
   ]
  },
  {
   "cell_type": "code",
   "execution_count": 8,
   "metadata": {},
   "outputs": [
    {
     "data": {
      "text/plain": [
       "[{4: [2, -1], 3: [-1, 0], 2: [0, 2]},\n",
       " {6: [-1, 0], 3: [0, -1], 5: [-1, -1]},\n",
       " {10: [2, -1], 8: [-1, -1], 7: [-1, -1], 5: [-1, -1], 4: [-1, 2]},\n",
       " {9: [-1, 1], 0: [1, 0], 6: [0, -1], 7: [-1, -1]},\n",
       " {11: [1, -1], 10: [-1, 2], 1: [2, 1]},\n",
       " {9: [1, -1], 8: [-1, -1], 11: [-1, 1]}]"
      ]
     },
     "execution_count": 8,
     "metadata": {},
     "output_type": "execute_result"
    }
   ],
   "source": [
    "forces"
   ]
  },
  {
   "cell_type": "markdown",
   "metadata": {},
   "source": [
    "# Solve for Unknown Spaces in Truss"
   ]
  },
  {
   "cell_type": "markdown",
   "metadata": {},
   "source": [
    "This code will iterate through a queue of nodes to solve for the locations of each unknown space on the force diagram."
   ]
  },
  {
   "cell_type": "code",
   "execution_count": null,
   "metadata": {},
   "outputs": [],
   "source": []
  },
  {
   "cell_type": "code",
   "execution_count": 9,
   "metadata": {},
   "outputs": [],
   "source": [
    "# Initialize spaces vector with the locations of the external force spaces\n",
    "spaces = np.zeros((len(ext_forces), 2))\n",
    "spaces[1:, 1] = ext_forces[0:-1]\n",
    "spaces = np.cumsum(spaces, axis=0)\n",
    "\n",
    "# Queue of nodes to look at \n",
    "queue = list(range(nodes.shape[0]))\n",
    "\n",
    "''' SOLVE FOR UNKNOWN SPACE NODE BY NODE'''\n",
    "while len(queue) > 0:\n",
    "    \n",
    "    # get next node\n",
    "    n = queue.pop(0)\n",
    "\n",
    "    # Check if there is only 1 degree of freedom (2 -1's in the force dict)\n",
    "    dof_count = 0\n",
    "    for i, mem in enumerate(forces[n]):\n",
    "        for dof in forces[n][mem]:\n",
    "            if dof == -1:\n",
    "                dof_count += 1\n",
    "\n",
    "    # Add add node to end of queue if it is not solveable yet\n",
    "    if dof_count > 2:\n",
    "        queue.append(n)\n",
    "        \n",
    "    # if the current node is solveable\n",
    "    elif dof_count == 2:\n",
    "\n",
    "        # Next numbering of space\n",
    "        snum = spaces.shape[0]\n",
    "\n",
    "        # Get two spaces to solve for and the corresponding member slopes\n",
    "        s1 = -1\n",
    "        m1 = 0\n",
    "        f1 = -1\n",
    "        s2 = -1\n",
    "        m2 = 0\n",
    "        f2 = -1\n",
    "        for i, mem in enumerate(forces[n]):\n",
    "            if forces[n][mem][0] == -1:\n",
    "                s1 = forces[n][mem][1]\n",
    "                m1 = slopes[mem-nf]\n",
    "                f1 = mem\n",
    "                \n",
    "            if forces[n][mem][1] == -1:\n",
    "                s2 = forces[n][mem][0]\n",
    "                m2 = slopes[mem-nf]\n",
    "                f2 = mem\n",
    "        \n",
    "        # find intersection of these two force lines and add it to spaces\n",
    "        spaces = np.append(spaces, [get_intersect(spaces[s1], m1, spaces[s2], m2)], axis=0)\n",
    "        \n",
    "        \n",
    "        # Update force to new unknown space\n",
    "        forces[n][f1][0]=snum\n",
    "        forces[n][f2][1]=snum\n",
    "        \n",
    "        # update forces with new known force\n",
    "        n1 = members[f1-nf, np.where(members[f1-nf]!=n)[0][0]]\n",
    "        forces[n1][f1][1]=snum\n",
    "        n2 = members[f2-nf, np.where(members[f2-nf]!=n)[0][0]]\n",
    "        forces[n2][f2][0]=snum\n",
    "        \n",
    "        # update adjacent forces\n",
    "        conn1 = connectivity[n1]\n",
    "        i1 = np.where(conn1==f1)[0][0]\n",
    "        forces[n1][conn1[(i1+1)%len(conn1)]][0] = snum\n",
    "        conn2 = connectivity[n2]\n",
    "        i2 = np.where(conn2==f2)[0][0]\n",
    "        forces[n2][conn2[(i2-1)%len(conn2)]][1] = snum\n",
    "        \n",
    "        \n",
    "        #print('Node '+str(n))\n",
    "        #print('Solving for Space: '+str(snum))\n",
    "        #print('\\tSpace 1: '+str(s1)+' at ('+str(spaces[s1, 0])+', '+str(spaces[s1, 1])+') Slope 1: '+str(m1))\n",
    "        #print('\\tSpace 2: '+str(s2)+' at ('+str(spaces[s2, 0])+', '+str(spaces[s2, 1])+') Slope 2: '+str(m2))\n",
    "        #print('Space '+str(snum)+' at: ('+str(spaces[snum, 0])+', '+str(spaces[snum, 1])+')\\n')\n",
    "\n",
    "\n",
    "for i, f in enumerate(forces):\n",
    "    for k in f:\n",
    "        if -1 in f:\n",
    "            print('FAILED AT NODE'+str(i)+', MEMBER '+str(k))"
   ]
  },
  {
   "cell_type": "code",
   "execution_count": 10,
   "metadata": {},
   "outputs": [
    {
     "name": "stdout",
     "output_type": "stream",
     "text": [
      "s0 [0. 0.]\n",
      "s1 [ 0. -1.]\n",
      "s2 [ 0.  -0.5]\n",
      "s3 [ 0.  -0.5]\n",
      "s4 [-0.5  0. ]\n",
      "s5 [-0.5 -1. ]\n",
      "s6 [ 0.  -0.5]\n"
     ]
    }
   ],
   "source": [
    "for i in range(spaces.shape[0]):\n",
    "    print('s'+str(i), spaces[i])"
   ]
  },
  {
   "cell_type": "code",
   "execution_count": 49,
   "metadata": {},
   "outputs": [
    {
     "data": {
      "image/png": "[encoded data removed]",
      "text/plain": [
       "<Figure size 432x288 with 1 Axes>"
      ]
     },
     "metadata": {
      "needs_background": "light"
     },
     "output_type": "display_data"
    }
   ],
   "source": [
    "''' CONDENSE LIST OF WHICH FORCES LIE BETWEEN WHICH SPACES '''\n",
    "force_space = np.ones((members.shape[0]+nf, 2)).astype('int') * -1\n",
    "\n",
    "seen = []\n",
    "for f in forces:\n",
    "    for spac in f:\n",
    "        if spac not in seen:\n",
    "            force_space[spac] = f[spac]\n",
    "            seen.append(spac)\n",
    "            \n",
    "''' PLOT FORCE DIAGRAM '''\n",
    "plt.scatter(spaces[:, 0], spaces[:, 1], c='r')\n",
    "for i in range(force_space.shape[0]):\n",
    "    s = spaces[force_space[i, 0], :]\n",
    "    e = spaces[force_space[i, 1], :]\n",
    "    plt.plot([s[0], e[0]], [s[1], e[1]], color='b', alpha=0.5)"
   ]
  },
  {
   "cell_type": "code",
   "execution_count": null,
   "metadata": {},
   "outputs": [],
   "source": []
  },
  {
   "cell_type": "code",
   "execution_count": null,
   "metadata": {},
   "outputs": [],
   "source": []
  },
  {
   "cell_type": "code",
   "execution_count": null,
   "metadata": {},
   "outputs": [],
   "source": []
  },
  {
   "cell_type": "code",
   "execution_count": null,
   "metadata": {},
   "outputs": [],
   "source": []
  }
 ],
 "metadata": {
  "kernelspec": {
   "display_name": "Python 3",
   "language": "python",
   "name": "python3"
  },
  "language_info": {
   "codemirror_mode": {
    "name": "ipython",
    "version": 3
   },
   "file_extension": ".py",
   "mimetype": "text/x-python",
   "name": "python",
   "nbconvert_exporter": "python",
   "pygments_lexer": "ipython3",
   "version": "3.7.3"
  }
 },
 "nbformat": 4,
 "nbformat_minor": 2
}
